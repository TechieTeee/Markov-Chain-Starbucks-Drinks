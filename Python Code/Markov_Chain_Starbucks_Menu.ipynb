{
  "nbformat": 4,
  "nbformat_minor": 0,
  "metadata": {
    "colab": {
      "provenance": []
    },
    "kernelspec": {
      "name": "python3",
      "display_name": "Python 3"
    },
    "language_info": {
      "name": "python"
    }
  },
  "cells": [
    {
      "cell_type": "markdown",
      "source": [
        "# **Import and Install Neccessary Libraries**"
      ],
      "metadata": {
        "id": "q38exZ9HsZcL"
      }
    },
    {
      "cell_type": "code",
      "execution_count": null,
      "metadata": {
        "id": "_JuNLJ45rTqg"
      },
      "outputs": [],
      "source": [
        "import numpy as np \n",
        "import pandas as pd \n",
        "from scipy import stats"
      ]
    },
    {
      "cell_type": "markdown",
      "source": [
        "# **Import Data from CSV**"
      ],
      "metadata": {
        "id": "dRFBBUJ-sjA-"
      }
    },
    {
      "cell_type": "code",
      "source": [
        "#Import Starbucks Drink Nutrition Data\n",
        "starbucks_data = pd.read_csv('starbucks-menu-nutrition-drinks.csv')\n",
        "kind_of_coffee = np.array(starbucks_data['Unnamed: 0'])"
      ],
      "metadata": {
        "id": "F91KEOUzrf28"
      },
      "execution_count": null,
      "outputs": []
    },
    {
      "cell_type": "markdown",
      "source": [
        "# **Define Initial Conditions**"
      ],
      "metadata": {
        "id": "h0R2LYNGsnlS"
      }
    },
    {
      "cell_type": "code",
      "source": [
        "#Define Customer State and States\n",
        "customer_state = ['Ordering the coffee','Waiting for your coffee','Leaving']\n",
        "states = {'O':customer_state[0],'M':customer_state[1],'L':customer_state[2]}"
      ],
      "metadata": {
        "id": "8HUVDMusrwTD"
      },
      "execution_count": null,
      "outputs": []
    },
    {
      "cell_type": "code",
      "source": [
        "#Define Mu and Sigma\n",
        "mu, sigma = 5, 1"
      ],
      "metadata": {
        "id": "MQpfwGKor4ls"
      },
      "execution_count": null,
      "outputs": []
    },
    {
      "cell_type": "markdown",
      "source": [
        "# **Define Markov Chain Function**"
      ],
      "metadata": {
        "id": "gBO-_Zv8ss_b"
      }
    },
    {
      "cell_type": "code",
      "source": [
        "#Define Markov Chain\n",
        "#Ouput Estimated Time for Drink Order\n",
        "def one_drink_one_cust():\n",
        "    start = states['O']\n",
        "    print(start+'\\n')\n",
        "    ordering_time = 0.5\n",
        "    first_state = states['M']\n",
        "    print(first_state+'\\n')\n",
        "    \n",
        "    waiting_time = np.arange(0, 30, 0.5)\n",
        "    p = stats.norm.cdf(waiting_time, loc=mu, scale=sigma)\n",
        "    k = np.random.choice([0,1], size=len(waiting_time), p=[1-p, p])\n",
        "    waiting_time = np.min(waiting_time[k == 1])\n",
        "    \n",
        "    print('Your coffee is brewing... \\n')\n",
        "    print('Your coffee is ready! \\n')\n",
        "    print(states['L']+'\\n')\n",
        "    print('Waiting time is = %.2f'%(waiting_time))\n",
        "    \n",
        "    return waiting_time\n",
        "\n",
        "one_drink_one_cust()"
      ],
      "metadata": {
        "id": "UJOKKhScr0xF"
      },
      "execution_count": null,
      "outputs": []
    }
  ]
}